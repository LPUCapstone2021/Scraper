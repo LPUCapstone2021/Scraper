{
  "nbformat": 4,
  "nbformat_minor": 0,
  "metadata": {
    "colab": {
      "name": "capstone.ipynb",
      "provenance": [],
      "collapsed_sections": []
    },
    "kernelspec": {
      "name": "python3",
      "display_name": "Python 3"
    }
  },
  "cells": [
    {
      "cell_type": "code",
      "metadata": {
        "id": "wxTa001tnP3F"
      },
      "source": [
        "import pandas as pd\n",
        "import numpy as np\n",
        "from google.colab import files\n",
        "import io"
      ],
      "execution_count": 26,
      "outputs": []
    },
    {
      "cell_type": "code",
      "metadata": {
        "id": "JLiCEfirolkf"
      },
      "source": [
        "uploaded = files.upload()\n",
        "df = pd.read_csv(io.BytesIO(uploaded['data.csv']))"
      ],
      "execution_count": null,
      "outputs": []
    },
    {
      "cell_type": "code",
      "metadata": {
        "id": "tXCTm2Y7rGzt"
      },
      "source": [
        "df.drop(columns=['brand', 'description', 'key_features', 'key_specifications', 'price', 'review_content', 'review_date', 'review_title', 'standout_features'], inplace=True)"
      ],
      "execution_count": null,
      "outputs": []
    },
    {
      "cell_type": "code",
      "metadata": {
        "id": "SqcbLo_VCOQw"
      },
      "source": [
        "cars = list(df.drop_duplicates(subset=['name'])['name'])\n",
        "new_df = pd.DataFrame()\n",
        "\n",
        "for index, car in enumerate(cars):\n",
        "  new_df[car] = 0"
      ],
      "execution_count": null,
      "outputs": []
    },
    {
      "cell_type": "code",
      "metadata": {
        "id": "40Arq4kjTG-w"
      },
      "source": [
        "new_cars = {}\n",
        "\n",
        "for name in cars:\n",
        "  new_cars[name] = ['' for i in range(0, 30)]\n",
        "\n",
        "new_cars['Users'] = [f'User{i}' for i in range(0, 30)]\n",
        "\n",
        "max_user = 30\n",
        "\n",
        "for index, name in enumerate(cars):\n",
        "  # if index > 10: break\n",
        "  chunk = df.loc[df['name'] == name]\n",
        "  chunk.reset_index(drop=True, inplace=True)\n",
        "  col = []\n",
        "  for j, row in chunk.iterrows():\n",
        "    chunk.at[j, 'review_username'] = f'User{j+1}'\n",
        "    col.append(f\"{chunk.at[j, 'rating']}\")\n",
        "  if len(col) < 30:\n",
        "    for i in range(len(col), 30):\n",
        "      col.append('')\n",
        "  new_cars[name] = col\n",
        "\n",
        "# print(new_cars)\n",
        "new_df = new_df.append(pd.DataFrame(new_cars))\n",
        "\n",
        "new_df.to_csv(index=False)"
      ],
      "execution_count": null,
      "outputs": []
    }
  ]
}